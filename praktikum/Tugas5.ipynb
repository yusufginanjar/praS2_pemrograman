{
  "nbformat": 4,
  "nbformat_minor": 0,
  "metadata": {
    "colab": {
      "provenance": []
    },
    "kernelspec": {
      "name": "python3",
      "display_name": "Python 3"
    },
    "language_info": {
      "name": "python"
    }
  },
  "cells": [
    {
      "cell_type": "markdown",
      "source": [
        "# Tugas 5 : Yusuf Ginanjar P\n",
        "Buatlah sebuah fungsi untuk mengubah tanggal dd/mm/yyyy menjadi \"dd month year\"\n",
        "\n",
        "Contoh input:\n",
        "```\n",
        "01/02/2021\n",
        "```\n",
        "Contoh output:\n",
        "```\n",
        "1 Februari 2021\n",
        "```\n",
        "\n",
        "Silahkan gunakan dictionary untuk menyimpan data bulan.\n"
      ],
      "metadata": {
        "id": "-kZG04vfubqv"
      }
    },
    {
      "cell_type": "code",
      "execution_count": 1,
      "metadata": {
        "colab": {
          "base_uri": "https://localhost:8080/",
          "height": 35
        },
        "id": "h_VB1b4LuaXU",
        "outputId": "1e3553f6-602e-40a8-d10a-6ec065ac440f"
      },
      "outputs": [
        {
          "output_type": "execute_result",
          "data": {
            "text/plain": [
              "'1 Februari 2021'"
            ],
            "application/vnd.google.colaboratory.intrinsic+json": {
              "type": "string"
            }
          },
          "metadata": {},
          "execution_count": 1
        }
      ],
      "source": [
        "def convert_date(date):\n",
        "    date_split = date.split(\"/\")\n",
        "    months = [\"Januari\", \"Februari\", \"Maret\", \"April\", \"Mei\", \"Juni\", \"Juli\", \"Agustus\", \"September\", \"Oktober\", \"November\", \"Desember\"]\n",
        "    if date_split[0][0] == \"0\":\n",
        "        date_split[0] = date_split[0][1]\n",
        "    date_converted = \"{} {} {}\".format(date_split[0], months[int(date_split[1]) - 1], date_split[2])\n",
        "    return date_converted\n",
        "\n",
        "convert_date(\"01/02/2021\")"
      ]
    }
  ]
}