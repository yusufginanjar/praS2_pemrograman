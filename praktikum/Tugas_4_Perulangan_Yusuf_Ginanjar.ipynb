{
  "nbformat": 4,
  "nbformat_minor": 0,
  "metadata": {
    "colab": {
      "provenance": []
    },
    "kernelspec": {
      "name": "python3",
      "display_name": "Python 3"
    },
    "language_info": {
      "name": "python"
    }
  },
  "cells": [
    {
      "cell_type": "markdown",
      "source": [
        "Tugas4 Perulangan\n",
        "\n",
        "Nama: Yusuf Ginanjar Putra"
      ],
      "metadata": {
        "id": "_ZdPH22orrnI"
      }
    },
    {
      "cell_type": "code",
      "execution_count": null,
      "metadata": {
        "colab": {
          "base_uri": "https://localhost:8080/"
        },
        "id": "O_fabiY-rqPe",
        "outputId": "73a57189-d44d-4eb9-d720-e31830654ed4"
      },
      "outputs": [
        {
          "output_type": "stream",
          "name": "stdout",
          "text": [
            "Masukkan angka (integer): 21\n",
            "21 bukan bilangan prima\n"
          ]
        }
      ],
      "source": [
        "def is_prime(n):\n",
        "    if n == 1:\n",
        "        return False\n",
        "    for i in range(2, n):\n",
        "        if n % i == 0:\n",
        "            return False\n",
        "    return True\n",
        "\n",
        "n = int(input(\"Masukkan angka (integer): \"))\n",
        "\n",
        "if is_prime(n):\n",
        "    print(n, \"adalah bilangan prima\")\n",
        "else:\n",
        "    print(n, \"bukan bilangan prima\")"
      ]
    }
  ]
}